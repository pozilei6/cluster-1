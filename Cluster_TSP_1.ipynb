{
  "nbformat": 4,
  "nbformat_minor": 0,
  "metadata": {
    "kernelspec": {
      "name": "python3",
      "display_name": "Python 3",
      "language": "python"
    },
    "language_info": {
      "name": "python",
      "version": "3.7.10",
      "mimetype": "text/x-python",
      "codemirror_mode": {
        "name": "ipython",
        "version": 3
      },
      "pygments_lexer": "ipython3",
      "nbconvert_exporter": "python",
      "file_extension": ".py"
    },
    "colab": {
      "name": "l.ipynb",
      "provenance": [],
      "include_colab_link": true
    }
  },
  "cells": [
    {
      "cell_type": "markdown",
      "metadata": {
        "id": "view-in-github",
        "colab_type": "text"
      },
      "source": [
        "<a href=\"https://colab.research.google.com/github/pozilei6/cluster-1/blob/main/Cluster_TSP_1.ipynb\" target=\"_parent\"><img src=\"https://colab.research.google.com/assets/colab-badge.svg\" alt=\"Open In Colab\"/></a>"
      ]
    },
    {
      "cell_type": "markdown",
      "metadata": {
        "id": "sSDo9Q8lLOd7"
      },
      "source": [
        "# # Clustering and TSP on a set of binary arrays"
      ]
    },
    {
      "cell_type": "markdown",
      "metadata": {
        "id": "epDIPAvWLOeN"
      },
      "source": [
        "Packages"
      ]
    },
    {
      "cell_type": "code",
      "metadata": {
        "trusted": true,
        "id": "dkqyQxpMLOeR"
      },
      "source": [
        "#all packages used\n",
        "import numpy as np\n",
        "from sklearn.cluster import SpectralClustering\n",
        "from sklearn import metrics\n",
        "import six\n",
        "import sys\n",
        "sys.modules['sklearn.externals.six'] = six\n",
        "import mlrose\n",
        "float_formatter = lambda x: \"%.3f\" % x\n",
        "np.set_printoptions(formatter={'float_kind':float_formatter})\n",
        "from sklearn.cluster import SpectralClustering, KMeans\n",
        "from sklearn.metrics import pairwise_distances\n",
        "from matplotlib import pyplot as plt\n",
        "import networkx as nx\n",
        "import seaborn as sns\n",
        "import matplotlib.colors as mcolors\n",
        "import matplotlib.cm as cm\n",
        "\n",
        "sns.set()\n",
        "np.random.seed(0)"
      ],
      "execution_count": 4,
      "outputs": []
    },
    {
      "cell_type": "markdown",
      "metadata": {
        "id": "JAiM8lJWLOeY"
      },
      "source": [
        "Two Packages had to be installed: mlrose and seaborn"
      ]
    },
    {
      "cell_type": "code",
      "metadata": {
        "id": "syB04SgKPpZw"
      },
      "source": [
        "pip install mlrose"
      ],
      "execution_count": null,
      "outputs": []
    },
    {
      "cell_type": "code",
      "metadata": {
        "id": "OuEUnKG7P0QZ"
      },
      "source": [
        "pip install seaborn"
      ],
      "execution_count": null,
      "outputs": []
    },
    {
      "cell_type": "markdown",
      "metadata": {
        "id": "u9RkdNhxLOeb"
      },
      "source": [
        "# We create our binary \"vectors\""
      ]
    },
    {
      "cell_type": "code",
      "metadata": {
        "trusted": true,
        "id": "kOsNob-OLOee"
      },
      "source": [
        "#Y is the input Matrix for Spectral Clustering and TSP\n",
        "size_y=33  #vertikal\n",
        "size_x=15  #horizontal\n",
        "Y=np.random.randint(2, size=(size_y, size_x))"
      ],
      "execution_count": 5,
      "outputs": []
    },
    {
      "cell_type": "markdown",
      "metadata": {
        "id": "m9-ccFvARaqo"
      },
      "source": [
        "# Now we do clustering on the rows of Y"
      ]
    },
    {
      "cell_type": "code",
      "metadata": {
        "id": "mMoR5u79RSAB"
      },
      "source": [
        "sc = SpectralClustering(n_init=100)\n",
        "sc.fit(Y)\n",
        "labels=sc.labels_ "
      ],
      "execution_count": 9,
      "outputs": []
    },
    {
      "cell_type": "markdown",
      "metadata": {
        "id": "0ueUYBILLOeh"
      },
      "source": [
        "# From resulting labels, we print each cluster"
      ]
    },
    {
      "cell_type": "code",
      "metadata": {
        "trusted": true,
        "id": "KpIgID39LOem"
      },
      "source": [
        "#Group arrays into their clusters \n",
        "lbls_max = labels.max()\n",
        "\n",
        "for k in range(lbls_max + 1):\n",
        "    ind_whe_lbls_equal_k=np.where(labels == k)\n",
        "    sh=(len(ind_whe_lbls_equal_k),size_x)\n",
        "    SS = np.zeros(shape = sh, dtype=\"int\")\n",
        "    SS=np.array(Y[ind_whe_lbls_equal_k,:])\n",
        "    print(\"label: \", k)\n",
        "    print(SS)"
      ],
      "execution_count": null,
      "outputs": []
    },
    {
      "cell_type": "markdown",
      "metadata": {
        "id": "Gg5KN89KLOer"
      },
      "source": [
        "# We visualize Y and Y_Cl, which is its clustered version  by labels 0, 1, ...."
      ]
    },
    {
      "cell_type": "code",
      "metadata": {
        "trusted": true,
        "id": "bid9yWy7LOex"
      },
      "source": [
        "# Sort Arrays by resulting labels \n",
        "Y_Cl=Y[labels.argsort()]\n",
        "\n",
        "hight=max(0.4*size_y,11)\n",
        "width=max(0.4*size_x,7)\n",
        "\n",
        "# Visualize Y\n",
        "fig = plt.figure(figsize=(hight,width))\n",
        "plt.imshow(Y,cmap='Greys', interpolation='none')\n",
        "plt.title(\"Plot 2D Y array\")\n",
        "plt.show()\n",
        "\n",
        "# Visualize S\n",
        "fig = plt.figure(figsize=(hight,width)) \n",
        "plt.imshow(Y_Cl,cmap='Greys', interpolation='none')\n",
        "plt.title(\"Plot 2D S array\")\n",
        "plt.show()"
      ],
      "execution_count": null,
      "outputs": []
    },
    {
      "cell_type": "markdown",
      "metadata": {
        "id": "EkNoxq9iLOe1"
      },
      "source": [
        "# Now we do TSP on Y by using a genetic algorithm."
      ]
    },
    {
      "cell_type": "code",
      "metadata": {
        "trusted": true,
        "id": "Uol4mf76LOe3"
      },
      "source": [
        "#TSP\n",
        "#Y has to be converted to a list of tuples as the argument of mlrose.TSPOpt\n",
        "X=Y\n",
        "list_of_tuples_X=[tuple(row) for row in X]\n",
        "\n",
        "problem_no_fit = mlrose.TSPOpt(length = size_y, coords = list_of_tuples_X,maximize=False)\n",
        "# Solve problem using the genetic algorithm\n",
        "best_state, best_fitness = mlrose.genetic_alg(problem_no_fit, random_state = 2)\n",
        "\n",
        "print('The best state found is: ', best_state)\n",
        "print('The fitness at the best state is: ', best_fitness)\n",
        "\n",
        "print(\"type(best_state)\")\n",
        "print(type(best_state))"
      ],
      "execution_count": null,
      "outputs": []
    },
    {
      "cell_type": "markdown",
      "metadata": {
        "id": "rmh9qnNdLOe6"
      },
      "source": [
        "# Finally we rearrange Y by the resulting TSP-Tour into Y_TSP and visualize both. "
      ]
    },
    {
      "cell_type": "code",
      "metadata": {
        "trusted": true,
        "id": "wiEahnAmLOe9"
      },
      "source": [
        "path=best_state\n",
        "X=Y\n",
        "Y_TSP=X[path,:]\n",
        "# Visualize Y again\n",
        "fig = plt.figure(figsize=(hight,width))\n",
        "plt.imshow(Y,cmap='Greys', interpolation='none')\n",
        "plt.title(\"Plot 2D Y array\")\n",
        "plt.show()\n",
        "# Visualize Y_TSP\n",
        "fig = plt.figure(figsize=(hight,width)) \n",
        "plt.imshow(S,cmap='Greys', interpolation='none')\n",
        "plt.title(\"Plot 2D S array\")\n",
        "plt.show()"
      ],
      "execution_count": null,
      "outputs": []
    },
    {
      "cell_type": "markdown",
      "metadata": {
        "id": "8n1zjunzLOe_"
      },
      "source": [
        "# Core issues in this code"
      ]
    },
    {
      "cell_type": "markdown",
      "metadata": {
        "id": "MPSKa-fULOfB"
      },
      "source": [
        "a) Those heat maps need to be remove from those vertical and horizontal thin lines.\n",
        "\n",
        "b) Looks like those white and black \"squares\" are not exactly squares. Perhaps other design    adjustements visualize the rearangement from TSP better.   \n",
        "\n",
        "c) Same heatmaps have to be done for every cluster. At my attempt some unresolvable issues with imshow occured (something to do with dimension of input).\n",
        "\n",
        "d) Here I used TSP. More accurately is to use a shortest-hamiltonian-path finder. By attaching one or two nodes in the TSP, this can be achieved. Perhaps there is a method in sklearn or a parameter to be adjusted for that purpose. \n",
        "\n",
        "e) The spectral clustering implemented through mlrose.TSPOpt() and mlrose.genetic_alg() seems to always make seven clusters. This needs to be changed as spectral clustering should always output an optimal number of clusters as it depends on the number of \"small\" eigenvalues. "
      ]
    }
  ]
}